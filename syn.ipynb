{
 "cells": [
  {
   "cell_type": "code",
   "execution_count": 3,
   "metadata": {},
   "outputs": [
    {
     "data": {
      "text/plain": [
       "True"
      ]
     },
     "execution_count": 3,
     "metadata": {},
     "output_type": "execute_result"
    }
   ],
   "source": [
    "import cv2\n",
    "\n",
    "src1 = cv2.imread('/home/megu/ECoG_CNNs/motoImage.png')\n",
    "src2 = cv2.imread('/home/megu/ECoG_CNNs/smoothGrad_testimage.png')\n",
    "\n",
    "dst = cv2.addWeighted(src1, 0.5, src2, 0.5, 0)\n",
    "\n",
    "cv2.imwrite('/home/megu/ECoG_CNNs/opencv_add_weighted.jpg', dst)"
   ]
  },
  {
   "cell_type": "code",
   "execution_count": 2,
   "metadata": {},
   "outputs": [
    {
     "name": "stdout",
     "output_type": "stream",
     "text": [
      "uint8\n"
     ]
    },
    {
     "ename": "ValueError",
     "evalue": "operands could not be broadcast together with shapes (224,224,4) (224,224) ",
     "output_type": "error",
     "traceback": [
      "\u001b[0;31m---------------------------------------------------------------------------\u001b[0m",
      "\u001b[0;31mValueError\u001b[0m                                Traceback (most recent call last)",
      "\u001b[0;32m<ipython-input-2-27842f4046b6>\u001b[0m in \u001b[0;36m<module>\u001b[0;34m\u001b[0m\n\u001b[1;32m      8\u001b[0m \u001b[0;31m# uint8\u001b[0m\u001b[0;34m\u001b[0m\u001b[0;34m\u001b[0m\u001b[0;34m\u001b[0m\u001b[0m\n\u001b[1;32m      9\u001b[0m \u001b[0;34m\u001b[0m\u001b[0m\n\u001b[0;32m---> 10\u001b[0;31m \u001b[0mdst\u001b[0m \u001b[0;34m=\u001b[0m \u001b[0msrc1\u001b[0m \u001b[0;34m*\u001b[0m \u001b[0;36m0.5\u001b[0m \u001b[0;34m+\u001b[0m \u001b[0msrc2\u001b[0m \u001b[0;34m*\u001b[0m \u001b[0;36m0.5\u001b[0m\u001b[0;34m\u001b[0m\u001b[0;34m\u001b[0m\u001b[0m\n\u001b[0m\u001b[1;32m     11\u001b[0m \u001b[0;34m\u001b[0m\u001b[0m\n\u001b[1;32m     12\u001b[0m \u001b[0mprint\u001b[0m\u001b[0;34m(\u001b[0m\u001b[0mdst\u001b[0m\u001b[0;34m.\u001b[0m\u001b[0mdtype\u001b[0m\u001b[0;34m)\u001b[0m\u001b[0;34m\u001b[0m\u001b[0;34m\u001b[0m\u001b[0m\n",
      "\u001b[0;31mValueError\u001b[0m: operands could not be broadcast together with shapes (224,224,4) (224,224) "
     ]
    }
   ],
   "source": [
    "import numpy as np\n",
    "from PIL import Image\n",
    "\n",
    "src1 = np.array(Image.open('/home/megu/ECoG_CNNs/motoImage.png'))\n",
    "src2 = np.array(Image.open('/home/megu/ECoG_CNNs/smoothGrad_testimage.png'))\n",
    "\n",
    "print(src1.dtype)\n",
    "# uint8\n",
    "\n",
    "dst = src1 * 0.5 + src2 * 0.5\n",
    "\n",
    "print(dst.dtype)\n",
    "# float64\n",
    "\n",
    "Image.fromarray(dst.astype(np.uint8)).save('home/megu/ECoG_CNNs/numpy_image_alpha_blend.jpg')"
   ]
  }
 ],
 "metadata": {
  "interpreter": {
   "hash": "380ce33f536f60483d2a6f0126b9b59f93ac20f691517a7ecce8b139a3161449"
  },
  "kernelspec": {
   "display_name": "Python 3.7.9 64-bit ('3.7.9': pyenv)",
   "name": "python3"
  },
  "language_info": {
   "name": "python",
   "version": ""
  },
  "orig_nbformat": 4
 },
 "nbformat": 4,
 "nbformat_minor": 2
}